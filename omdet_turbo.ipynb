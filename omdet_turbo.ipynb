{
  "nbformat": 4,
  "nbformat_minor": 0,
  "metadata": {
    "colab": {
      "provenance": [],
      "gpuType": "T4"
    },
    "kernelspec": {
      "name": "python3",
      "display_name": "Python 3"
    },
    "language_info": {
      "name": "python"
    },
    "accelerator": "GPU"
  },
  "cells": [
    {
      "cell_type": "code",
      "execution_count": null,
      "metadata": {
        "id": "qDeNQ4Xf-Dv2"
      },
      "outputs": [],
      "source": [
        "import os\n",
        "import torch\n",
        "import requests\n",
        "from PIL import Image\n",
        "from transformers import AutoProcessor, OmDetTurboForObjectDetection\n",
        "\n",
        "processor = AutoProcessor.from_pretrained(\"omlab/omdet-turbo-swin-tiny-hf\",use_fast=True)\n",
        "model = OmDetTurboForObjectDetection.from_pretrained(\"omlab/omdet-turbo-swin-tiny-hf\")"
      ]
    },
    {
      "cell_type": "code",
      "source": [
        "def load_images_from_folder(dataset_path):\n",
        "    images = []\n",
        "\n",
        "    # Iterate through all files in the directory\n",
        "    for filename in os.listdir(dataset_path):\n",
        "        file_path = os.path.join(dataset_path, filename)\n",
        "\n",
        "        # Check if it's a file and has a valid image extension\n",
        "        if os.path.isfile(file_path) and filename.lower().endswith(('.png', '.jpg', '.jpeg')):\n",
        "            try:\n",
        "                image = Image.open(file_path).convert(\"RGB\")\n",
        "                images.append(image)\n",
        "            except Exception as e:\n",
        "                print(f\"Error opening {file_path}: {e}\")\n",
        "\n",
        "    return images\n",
        "\n",
        "dataset_path = \"/content/dataset\"\n",
        "images = load_images_from_folder(dataset_path)\n",
        "\n",
        "classes = [\"car\", \"people\"]\n",
        "task = \"Detect car and people.\""
      ],
      "metadata": {
        "id": "OVIZc4r6De5E"
      },
      "execution_count": null,
      "outputs": []
    },
    {
      "cell_type": "code",
      "source": [
        "batch_size = 30\n",
        "results = []\n",
        "\n",
        "for i in range(0, len(images), batch_size):\n",
        "    batch_imgs = images[i:i+batch_size]\n",
        "    batch_texts = [classes] * len(batch_imgs)\n",
        "    batch_tasks = [task] * len(batch_imgs)\n",
        "\n",
        "    inputs = processor(\n",
        "        images=batch_imgs,\n",
        "        text=batch_texts,\n",
        "        task=batch_tasks,\n",
        "        return_tensors=\"pt\",\n",
        "        padding=True\n",
        "    )\n",
        "\n",
        "    with torch.no_grad():\n",
        "        batch_output = model(**inputs)\n",
        "\n",
        "    batch_results = processor.post_process_grounded_object_detection(\n",
        "        batch_output,\n",
        "        classes=[classes] * len(batch_imgs),\n",
        "        target_sizes=[img.size[::-1] for img in batch_imgs],\n",
        "        score_threshold=0.2,\n",
        "        nms_threshold=0.3,\n",
        "    )\n",
        "\n",
        "    # Aggiungi i risultati del batch direttamente in results\n",
        "    results.extend(batch_results)"
      ],
      "metadata": {
        "id": "fLf5J8ZnByta",
        "colab": {
          "base_uri": "https://localhost:8080/"
        },
        "outputId": "c78fe232-e515-4b93-a622-d55f31c2d671"
      },
      "execution_count": null,
      "outputs": [
        {
          "output_type": "stream",
          "name": "stderr",
          "text": [
            "Unused or unrecognized kwargs: masks_path, annotations.\n",
            "<ipython-input-6-d4c6576cb7e2>:20: FutureWarning: `score_threshold` is deprecated and will be removed in version 4.51.0 for `OmDetTurboProcessor.post_process_grounded_object_detection`. Use `threshold` instead.\n",
            "  batch_results = processor.post_process_grounded_object_detection(\n"
          ]
        }
      ]
    },
    {
      "cell_type": "code",
      "source": [
        "for i, result in enumerate(results):\n",
        "    for score, class_name, box in zip(\n",
        "        result[\"scores\"], result[\"classes\"], result[\"boxes\"]\n",
        "    ):\n",
        "        box = [round(i, 1) for i in box.tolist()]\n",
        "        print(\n",
        "            f\"Detected {class_name} with confidence \"\n",
        "            f\"{round(score.item(), 2)} at location {box} in image {i}\"\n",
        "        )"
      ],
      "metadata": {
        "id": "GXV8ZWKFCMkN"
      },
      "execution_count": null,
      "outputs": []
    },
    {
      "cell_type": "code",
      "source": [
        "!rm -rf /content/dataset"
      ],
      "metadata": {
        "id": "W89Q4qOrJjBh"
      },
      "execution_count": null,
      "outputs": []
    }
  ]
}